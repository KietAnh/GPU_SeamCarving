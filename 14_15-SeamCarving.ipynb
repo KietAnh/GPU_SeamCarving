{
  "nbformat": 4,
  "nbformat_minor": 0,
  "metadata": {
    "accelerator": "GPU",
    "colab": {
      "name": "11-SeamCarving.ipynb",
      "provenance": [],
      "collapsed_sections": []
    },
    "kernelspec": {
      "display_name": "Python 3",
      "name": "python3"
    }
  },
  "cells": [
    {
      "cell_type": "code",
      "metadata": {
        "id": "3bKnsXQlJfKi"
      },
      "source": [
        "# Đoạn code Python để hiển thị file ảnh pnm ở notebook\r\n",
        "# Ví dụ để hiển thị file \"img.pnm\", ở dòng cuối của code cell\r\n",
        "# bạn gõ (không cần dấu ! đằng trước): show_pnm('img.pnm')\r\n",
        "# LƯU Ý: bạn phải chạy cell này một lần thì mới gọi được hàm show_pnm\r\n",
        "from PIL import Image\r\n",
        "import numpy as np\r\n",
        "def show_pnm(file_name):\r\n",
        "  with open(file_name, 'r') as f:\r\n",
        "    vals = f.read().split()\r\n",
        "  w = int(vals[1])\r\n",
        "  h = int(vals[2])\r\n",
        "  if vals[0] == 'P2': # Grayscale\r\n",
        "    pixels = np.array(vals[4:], dtype=np.uint8).reshape((h, w))\r\n",
        "  elif vals[0] == 'P3': # RGB\r\n",
        "    pixels = np.array(vals[4:], dtype=np.uint8).reshape((h, w, 3))\r\n",
        "  else:\r\n",
        "    return None\r\n",
        "  \r\n",
        "  return Image.fromarray(pixels)\r\n",
        "\r\n",
        "# Đoạn code Python để hiển thị file chứa ma trận ở notebook\r\n",
        "# (một dòng của ma trận ứng với một dòng trong file, \r\n",
        "# các phần tử trên mỗi dòng được cách nhau bởi khoảng trắng) \r\n",
        "# Ví dụ để hiển thị file \"pixel_importance.txt\", ở dòng cuối của code cell\r\n",
        "# bạn gõ: show_matrix('pixel_important.txt')\r\n",
        "def show_matrix(matrix_file):\r\n",
        "  m = np.loadtxt(matrix_file)\r\n",
        "  m = m + m.min()\r\n",
        "  m = m / m.max()\r\n",
        "  m = m * 255\r\n",
        "  m = m.astype(np.uint8)\r\n",
        "  return Image.fromarray(m)"
      ],
      "execution_count": null,
      "outputs": []
    }
  ]
}